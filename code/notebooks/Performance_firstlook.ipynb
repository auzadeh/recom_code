{
 "cells": [
  {
   "cell_type": "code",
   "execution_count": 1,
   "metadata": {
    "collapsed": false
   },
   "outputs": [
    {
     "name": "stdout",
     "output_type": "stream",
     "text": [
      "This non-commercial license of GraphLab Create for academic use is assigned to huip@indiana.edu and will expire on March 26, 2017.\n"
     ]
    },
    {
     "name": "stderr",
     "output_type": "stream",
     "text": [
      "[INFO] graphlab.cython.cy_server: GraphLab Create v2.1 started. Logging: /tmp/graphlab_server_1487692781.log\n"
     ]
    }
   ],
   "source": [
    "import graphlab\n",
    "from graphlab import SFrame\n",
    "import pandas as pd\n",
    "\n",
    "%matplotlib inline"
   ]
  },
  {
   "cell_type": "code",
   "execution_count": 2,
   "metadata": {
    "collapsed": false
   },
   "outputs": [
    {
     "data": {
      "text/html": [
       "<pre>Finished parsing file /home/phui/Research/yelp/raw_data/nv_train_user_rest_rating_time.tsv</pre>"
      ],
      "text/plain": [
       "Finished parsing file /home/phui/Research/yelp/raw_data/nv_train_user_rest_rating_time.tsv"
      ]
     },
     "metadata": {},
     "output_type": "display_data"
    },
    {
     "data": {
      "text/html": [
       "<pre>Parsing completed. Parsed 100 lines in 0.303 secs.</pre>"
      ],
      "text/plain": [
       "Parsing completed. Parsed 100 lines in 0.303 secs."
      ]
     },
     "metadata": {},
     "output_type": "display_data"
    },
    {
     "name": "stdout",
     "output_type": "stream",
     "text": [
      "------------------------------------------------------\n",
      "Inferred types from first 100 line(s) of file as \n",
      "column_type_hints=[str,str,int,str]\n",
      "If parsing fails due to incorrect types, you can correct\n",
      "the inferred type list above and pass it to read_csv in\n",
      "the column_type_hints argument\n",
      "------------------------------------------------------\n"
     ]
    },
    {
     "data": {
      "text/html": [
       "<pre>Finished parsing file /home/phui/Research/yelp/raw_data/nv_train_user_rest_rating_time.tsv</pre>"
      ],
      "text/plain": [
       "Finished parsing file /home/phui/Research/yelp/raw_data/nv_train_user_rest_rating_time.tsv"
      ]
     },
     "metadata": {},
     "output_type": "display_data"
    },
    {
     "data": {
      "text/html": [
       "<pre>Parsing completed. Parsed 202305 lines in 0.233357 secs.</pre>"
      ],
      "text/plain": [
       "Parsing completed. Parsed 202305 lines in 0.233357 secs."
      ]
     },
     "metadata": {},
     "output_type": "display_data"
    },
    {
     "data": {
      "text/html": [
       "<div style=\"max-height:1000px;max-width:1500px;overflow:auto;\"><table frame=\"box\" rules=\"cols\">\n",
       "    <tr>\n",
       "        <th style=\"padding-left: 1em; padding-right: 1em; text-align: center\">uid</th>\n",
       "        <th style=\"padding-left: 1em; padding-right: 1em; text-align: center\">bid</th>\n",
       "        <th style=\"padding-left: 1em; padding-right: 1em; text-align: center\">rating</th>\n",
       "        <th style=\"padding-left: 1em; padding-right: 1em; text-align: center\">tstamp</th>\n",
       "    </tr>\n",
       "    <tr>\n",
       "        <td style=\"padding-left: 1em; padding-right: 1em; text-align: center; vertical-align: top\">mTDwQ4I2hAHz2i5AC1ab3w</td>\n",
       "        <td style=\"padding-left: 1em; padding-right: 1em; text-align: center; vertical-align: top\">xyTJYlbE_MLouK6rCou6zg</td>\n",
       "        <td style=\"padding-left: 1em; padding-right: 1em; text-align: center; vertical-align: top\">4</td>\n",
       "        <td style=\"padding-left: 1em; padding-right: 1em; text-align: center; vertical-align: top\">2008-02-04 00:00:00</td>\n",
       "    </tr>\n",
       "    <tr>\n",
       "        <td style=\"padding-left: 1em; padding-right: 1em; text-align: center; vertical-align: top\">UwnXA4ox3K9RMGaRwqgaBw</td>\n",
       "        <td style=\"padding-left: 1em; padding-right: 1em; text-align: center; vertical-align: top\">UpkfQApZT5rctZicZ_ZTgw</td>\n",
       "        <td style=\"padding-left: 1em; padding-right: 1em; text-align: center; vertical-align: top\">5</td>\n",
       "        <td style=\"padding-left: 1em; padding-right: 1em; text-align: center; vertical-align: top\">2011-06-04 00:00:00</td>\n",
       "    </tr>\n",
       "    <tr>\n",
       "        <td style=\"padding-left: 1em; padding-right: 1em; text-align: center; vertical-align: top\">UwnXA4ox3K9RMGaRwqgaBw</td>\n",
       "        <td style=\"padding-left: 1em; padding-right: 1em; text-align: center; vertical-align: top\">9FWEGULkG2g4LDja71MrvA</td>\n",
       "        <td style=\"padding-left: 1em; padding-right: 1em; text-align: center; vertical-align: top\">4</td>\n",
       "        <td style=\"padding-left: 1em; padding-right: 1em; text-align: center; vertical-align: top\">2011-06-06 00:00:00</td>\n",
       "    </tr>\n",
       "    <tr>\n",
       "        <td style=\"padding-left: 1em; padding-right: 1em; text-align: center; vertical-align: top\">UwnXA4ox3K9RMGaRwqgaBw</td>\n",
       "        <td style=\"padding-left: 1em; padding-right: 1em; text-align: center; vertical-align: top\">N8NiWbLzee9EOeMnz2MOlw</td>\n",
       "        <td style=\"padding-left: 1em; padding-right: 1em; text-align: center; vertical-align: top\">2</td>\n",
       "        <td style=\"padding-left: 1em; padding-right: 1em; text-align: center; vertical-align: top\">2011-06-08 00:00:00</td>\n",
       "    </tr>\n",
       "    <tr>\n",
       "        <td style=\"padding-left: 1em; padding-right: 1em; text-align: center; vertical-align: top\">UwnXA4ox3K9RMGaRwqgaBw</td>\n",
       "        <td style=\"padding-left: 1em; padding-right: 1em; text-align: center; vertical-align: top\">_ZyJLAlkmqefU0WXQ2o6jQ</td>\n",
       "        <td style=\"padding-left: 1em; padding-right: 1em; text-align: center; vertical-align: top\">5</td>\n",
       "        <td style=\"padding-left: 1em; padding-right: 1em; text-align: center; vertical-align: top\">2011-06-11 00:00:00</td>\n",
       "    </tr>\n",
       "    <tr>\n",
       "        <td style=\"padding-left: 1em; padding-right: 1em; text-align: center; vertical-align: top\">UwnXA4ox3K9RMGaRwqgaBw</td>\n",
       "        <td style=\"padding-left: 1em; padding-right: 1em; text-align: center; vertical-align: top\">07bUAD_qnrJAXvJou_ls4g</td>\n",
       "        <td style=\"padding-left: 1em; padding-right: 1em; text-align: center; vertical-align: top\">1</td>\n",
       "        <td style=\"padding-left: 1em; padding-right: 1em; text-align: center; vertical-align: top\">2011-09-16 00:00:00</td>\n",
       "    </tr>\n",
       "    <tr>\n",
       "        <td style=\"padding-left: 1em; padding-right: 1em; text-align: center; vertical-align: top\">UwnXA4ox3K9RMGaRwqgaBw</td>\n",
       "        <td style=\"padding-left: 1em; padding-right: 1em; text-align: center; vertical-align: top\">uBXSxanoPdT_Jc_x0_7ggg</td>\n",
       "        <td style=\"padding-left: 1em; padding-right: 1em; text-align: center; vertical-align: top\">2</td>\n",
       "        <td style=\"padding-left: 1em; padding-right: 1em; text-align: center; vertical-align: top\">2012-01-27 00:00:00</td>\n",
       "    </tr>\n",
       "    <tr>\n",
       "        <td style=\"padding-left: 1em; padding-right: 1em; text-align: center; vertical-align: top\">sxULQivO3NiCIDmWfZDSnA</td>\n",
       "        <td style=\"padding-left: 1em; padding-right: 1em; text-align: center; vertical-align: top\">bsIG-bXSRcCx62k4lHBEcw</td>\n",
       "        <td style=\"padding-left: 1em; padding-right: 1em; text-align: center; vertical-align: top\">1</td>\n",
       "        <td style=\"padding-left: 1em; padding-right: 1em; text-align: center; vertical-align: top\">2013-04-29 00:00:00</td>\n",
       "    </tr>\n",
       "    <tr>\n",
       "        <td style=\"padding-left: 1em; padding-right: 1em; text-align: center; vertical-align: top\">J3baStGXE2xRXYcgABj00A</td>\n",
       "        <td style=\"padding-left: 1em; padding-right: 1em; text-align: center; vertical-align: top\">Lq6CDJ2yHmMs4N7jscQhHQ</td>\n",
       "        <td style=\"padding-left: 1em; padding-right: 1em; text-align: center; vertical-align: top\">2</td>\n",
       "        <td style=\"padding-left: 1em; padding-right: 1em; text-align: center; vertical-align: top\">2014-01-21 00:00:00</td>\n",
       "    </tr>\n",
       "    <tr>\n",
       "        <td style=\"padding-left: 1em; padding-right: 1em; text-align: center; vertical-align: top\">J3baStGXE2xRXYcgABj00A</td>\n",
       "        <td style=\"padding-left: 1em; padding-right: 1em; text-align: center; vertical-align: top\">NsnZ5GhagXBKrCOelxVQxw</td>\n",
       "        <td style=\"padding-left: 1em; padding-right: 1em; text-align: center; vertical-align: top\">5</td>\n",
       "        <td style=\"padding-left: 1em; padding-right: 1em; text-align: center; vertical-align: top\">2014-01-22 00:00:00</td>\n",
       "    </tr>\n",
       "</table>\n",
       "[202305 rows x 4 columns]<br/>Note: Only the head of the SFrame is printed.<br/>You can use print_rows(num_rows=m, num_columns=n) to print more rows and columns.\n",
       "</div>"
      ],
      "text/plain": [
       "Columns:\n",
       "\tuid\tstr\n",
       "\tbid\tstr\n",
       "\trating\tint\n",
       "\ttstamp\tstr\n",
       "\n",
       "Rows: 202305\n",
       "\n",
       "Data:\n",
       "+------------------------+------------------------+--------+---------------------+\n",
       "|          uid           |          bid           | rating |        tstamp       |\n",
       "+------------------------+------------------------+--------+---------------------+\n",
       "| mTDwQ4I2hAHz2i5AC1ab3w | xyTJYlbE_MLouK6rCou6zg |   4    | 2008-02-04 00:00:00 |\n",
       "| UwnXA4ox3K9RMGaRwqgaBw | UpkfQApZT5rctZicZ_ZTgw |   5    | 2011-06-04 00:00:00 |\n",
       "| UwnXA4ox3K9RMGaRwqgaBw | 9FWEGULkG2g4LDja71MrvA |   4    | 2011-06-06 00:00:00 |\n",
       "| UwnXA4ox3K9RMGaRwqgaBw | N8NiWbLzee9EOeMnz2MOlw |   2    | 2011-06-08 00:00:00 |\n",
       "| UwnXA4ox3K9RMGaRwqgaBw | _ZyJLAlkmqefU0WXQ2o6jQ |   5    | 2011-06-11 00:00:00 |\n",
       "| UwnXA4ox3K9RMGaRwqgaBw | 07bUAD_qnrJAXvJou_ls4g |   1    | 2011-09-16 00:00:00 |\n",
       "| UwnXA4ox3K9RMGaRwqgaBw | uBXSxanoPdT_Jc_x0_7ggg |   2    | 2012-01-27 00:00:00 |\n",
       "| sxULQivO3NiCIDmWfZDSnA | bsIG-bXSRcCx62k4lHBEcw |   1    | 2013-04-29 00:00:00 |\n",
       "| J3baStGXE2xRXYcgABj00A | Lq6CDJ2yHmMs4N7jscQhHQ |   2    | 2014-01-21 00:00:00 |\n",
       "| J3baStGXE2xRXYcgABj00A | NsnZ5GhagXBKrCOelxVQxw |   5    | 2014-01-22 00:00:00 |\n",
       "+------------------------+------------------------+--------+---------------------+\n",
       "[202305 rows x 4 columns]\n",
       "Note: Only the head of the SFrame is printed.\n",
       "You can use print_rows(num_rows=m, num_columns=n) to print more rows and columns."
      ]
     },
     "execution_count": 2,
     "metadata": {},
     "output_type": "execute_result"
    }
   ],
   "source": [
    "sf = SFrame.read_csv('../raw_data/nv_train_user_rest_rating_time.tsv', delimiter='\\t', header=False)\n",
    "sf.rename({\n",
    "        'X1': 'uid',\n",
    "        'X2': 'bid',\n",
    "        'X3': 'rating',\n",
    "        'X4': 'tstamp'\n",
    "    })"
   ]
  },
  {
   "cell_type": "code",
   "execution_count": 3,
   "metadata": {
    "collapsed": false
   },
   "outputs": [
    {
     "data": {
      "text/html": [
       "<div style=\"max-height:1000px;max-width:1500px;overflow:auto;\"><table frame=\"box\" rules=\"cols\">\n",
       "    <tr>\n",
       "        <th style=\"padding-left: 1em; padding-right: 1em; text-align: center\">uid</th>\n",
       "        <th style=\"padding-left: 1em; padding-right: 1em; text-align: center\">bid</th>\n",
       "        <th style=\"padding-left: 1em; padding-right: 1em; text-align: center\">rating</th>\n",
       "        <th style=\"padding-left: 1em; padding-right: 1em; text-align: center\">tstamp</th>\n",
       "    </tr>\n",
       "    <tr>\n",
       "        <td style=\"padding-left: 1em; padding-right: 1em; text-align: center; vertical-align: top\">mTDwQ4I2hAHz2i5AC1ab3w</td>\n",
       "        <td style=\"padding-left: 1em; padding-right: 1em; text-align: center; vertical-align: top\">xyTJYlbE_MLouK6rCou6zg</td>\n",
       "        <td style=\"padding-left: 1em; padding-right: 1em; text-align: center; vertical-align: top\">4</td>\n",
       "        <td style=\"padding-left: 1em; padding-right: 1em; text-align: center; vertical-align: top\">2008-02-04 00:00:00</td>\n",
       "    </tr>\n",
       "    <tr>\n",
       "        <td style=\"padding-left: 1em; padding-right: 1em; text-align: center; vertical-align: top\">UwnXA4ox3K9RMGaRwqgaBw</td>\n",
       "        <td style=\"padding-left: 1em; padding-right: 1em; text-align: center; vertical-align: top\">UpkfQApZT5rctZicZ_ZTgw</td>\n",
       "        <td style=\"padding-left: 1em; padding-right: 1em; text-align: center; vertical-align: top\">5</td>\n",
       "        <td style=\"padding-left: 1em; padding-right: 1em; text-align: center; vertical-align: top\">2011-06-04 00:00:00</td>\n",
       "    </tr>\n",
       "    <tr>\n",
       "        <td style=\"padding-left: 1em; padding-right: 1em; text-align: center; vertical-align: top\">UwnXA4ox3K9RMGaRwqgaBw</td>\n",
       "        <td style=\"padding-left: 1em; padding-right: 1em; text-align: center; vertical-align: top\">9FWEGULkG2g4LDja71MrvA</td>\n",
       "        <td style=\"padding-left: 1em; padding-right: 1em; text-align: center; vertical-align: top\">4</td>\n",
       "        <td style=\"padding-left: 1em; padding-right: 1em; text-align: center; vertical-align: top\">2011-06-06 00:00:00</td>\n",
       "    </tr>\n",
       "    <tr>\n",
       "        <td style=\"padding-left: 1em; padding-right: 1em; text-align: center; vertical-align: top\">UwnXA4ox3K9RMGaRwqgaBw</td>\n",
       "        <td style=\"padding-left: 1em; padding-right: 1em; text-align: center; vertical-align: top\">N8NiWbLzee9EOeMnz2MOlw</td>\n",
       "        <td style=\"padding-left: 1em; padding-right: 1em; text-align: center; vertical-align: top\">2</td>\n",
       "        <td style=\"padding-left: 1em; padding-right: 1em; text-align: center; vertical-align: top\">2011-06-08 00:00:00</td>\n",
       "    </tr>\n",
       "    <tr>\n",
       "        <td style=\"padding-left: 1em; padding-right: 1em; text-align: center; vertical-align: top\">UwnXA4ox3K9RMGaRwqgaBw</td>\n",
       "        <td style=\"padding-left: 1em; padding-right: 1em; text-align: center; vertical-align: top\">_ZyJLAlkmqefU0WXQ2o6jQ</td>\n",
       "        <td style=\"padding-left: 1em; padding-right: 1em; text-align: center; vertical-align: top\">5</td>\n",
       "        <td style=\"padding-left: 1em; padding-right: 1em; text-align: center; vertical-align: top\">2011-06-11 00:00:00</td>\n",
       "    </tr>\n",
       "    <tr>\n",
       "        <td style=\"padding-left: 1em; padding-right: 1em; text-align: center; vertical-align: top\">UwnXA4ox3K9RMGaRwqgaBw</td>\n",
       "        <td style=\"padding-left: 1em; padding-right: 1em; text-align: center; vertical-align: top\">07bUAD_qnrJAXvJou_ls4g</td>\n",
       "        <td style=\"padding-left: 1em; padding-right: 1em; text-align: center; vertical-align: top\">1</td>\n",
       "        <td style=\"padding-left: 1em; padding-right: 1em; text-align: center; vertical-align: top\">2011-09-16 00:00:00</td>\n",
       "    </tr>\n",
       "    <tr>\n",
       "        <td style=\"padding-left: 1em; padding-right: 1em; text-align: center; vertical-align: top\">UwnXA4ox3K9RMGaRwqgaBw</td>\n",
       "        <td style=\"padding-left: 1em; padding-right: 1em; text-align: center; vertical-align: top\">uBXSxanoPdT_Jc_x0_7ggg</td>\n",
       "        <td style=\"padding-left: 1em; padding-right: 1em; text-align: center; vertical-align: top\">2</td>\n",
       "        <td style=\"padding-left: 1em; padding-right: 1em; text-align: center; vertical-align: top\">2012-01-27 00:00:00</td>\n",
       "    </tr>\n",
       "    <tr>\n",
       "        <td style=\"padding-left: 1em; padding-right: 1em; text-align: center; vertical-align: top\">sxULQivO3NiCIDmWfZDSnA</td>\n",
       "        <td style=\"padding-left: 1em; padding-right: 1em; text-align: center; vertical-align: top\">bsIG-bXSRcCx62k4lHBEcw</td>\n",
       "        <td style=\"padding-left: 1em; padding-right: 1em; text-align: center; vertical-align: top\">1</td>\n",
       "        <td style=\"padding-left: 1em; padding-right: 1em; text-align: center; vertical-align: top\">2013-04-29 00:00:00</td>\n",
       "    </tr>\n",
       "    <tr>\n",
       "        <td style=\"padding-left: 1em; padding-right: 1em; text-align: center; vertical-align: top\">J3baStGXE2xRXYcgABj00A</td>\n",
       "        <td style=\"padding-left: 1em; padding-right: 1em; text-align: center; vertical-align: top\">Lq6CDJ2yHmMs4N7jscQhHQ</td>\n",
       "        <td style=\"padding-left: 1em; padding-right: 1em; text-align: center; vertical-align: top\">2</td>\n",
       "        <td style=\"padding-left: 1em; padding-right: 1em; text-align: center; vertical-align: top\">2014-01-21 00:00:00</td>\n",
       "    </tr>\n",
       "    <tr>\n",
       "        <td style=\"padding-left: 1em; padding-right: 1em; text-align: center; vertical-align: top\">J3baStGXE2xRXYcgABj00A</td>\n",
       "        <td style=\"padding-left: 1em; padding-right: 1em; text-align: center; vertical-align: top\">NsnZ5GhagXBKrCOelxVQxw</td>\n",
       "        <td style=\"padding-left: 1em; padding-right: 1em; text-align: center; vertical-align: top\">5</td>\n",
       "        <td style=\"padding-left: 1em; padding-right: 1em; text-align: center; vertical-align: top\">2014-01-22 00:00:00</td>\n",
       "    </tr>\n",
       "</table>\n",
       "[10 rows x 4 columns]<br/>\n",
       "</div>"
      ],
      "text/plain": [
       "Columns:\n",
       "\tuid\tstr\n",
       "\tbid\tstr\n",
       "\trating\tint\n",
       "\ttstamp\tstr\n",
       "\n",
       "Rows: 10\n",
       "\n",
       "Data:\n",
       "+------------------------+------------------------+--------+---------------------+\n",
       "|          uid           |          bid           | rating |        tstamp       |\n",
       "+------------------------+------------------------+--------+---------------------+\n",
       "| mTDwQ4I2hAHz2i5AC1ab3w | xyTJYlbE_MLouK6rCou6zg |   4    | 2008-02-04 00:00:00 |\n",
       "| UwnXA4ox3K9RMGaRwqgaBw | UpkfQApZT5rctZicZ_ZTgw |   5    | 2011-06-04 00:00:00 |\n",
       "| UwnXA4ox3K9RMGaRwqgaBw | 9FWEGULkG2g4LDja71MrvA |   4    | 2011-06-06 00:00:00 |\n",
       "| UwnXA4ox3K9RMGaRwqgaBw | N8NiWbLzee9EOeMnz2MOlw |   2    | 2011-06-08 00:00:00 |\n",
       "| UwnXA4ox3K9RMGaRwqgaBw | _ZyJLAlkmqefU0WXQ2o6jQ |   5    | 2011-06-11 00:00:00 |\n",
       "| UwnXA4ox3K9RMGaRwqgaBw | 07bUAD_qnrJAXvJou_ls4g |   1    | 2011-09-16 00:00:00 |\n",
       "| UwnXA4ox3K9RMGaRwqgaBw | uBXSxanoPdT_Jc_x0_7ggg |   2    | 2012-01-27 00:00:00 |\n",
       "| sxULQivO3NiCIDmWfZDSnA | bsIG-bXSRcCx62k4lHBEcw |   1    | 2013-04-29 00:00:00 |\n",
       "| J3baStGXE2xRXYcgABj00A | Lq6CDJ2yHmMs4N7jscQhHQ |   2    | 2014-01-21 00:00:00 |\n",
       "| J3baStGXE2xRXYcgABj00A | NsnZ5GhagXBKrCOelxVQxw |   5    | 2014-01-22 00:00:00 |\n",
       "+------------------------+------------------------+--------+---------------------+\n",
       "[10 rows x 4 columns]"
      ]
     },
     "execution_count": 3,
     "metadata": {},
     "output_type": "execute_result"
    }
   ],
   "source": [
    "sf.head()"
   ]
  },
  {
   "cell_type": "code",
   "execution_count": 4,
   "metadata": {
    "collapsed": false
   },
   "outputs": [
    {
     "data": {
      "text/html": [
       "<pre>Recsys training: model = item_similarity</pre>"
      ],
      "text/plain": [
       "Recsys training: model = item_similarity"
      ]
     },
     "metadata": {},
     "output_type": "display_data"
    },
    {
     "data": {
      "text/html": [
       "<pre>Warning: Ignoring columns tstamp;</pre>"
      ],
      "text/plain": [
       "Warning: Ignoring columns tstamp;"
      ]
     },
     "metadata": {},
     "output_type": "display_data"
    },
    {
     "data": {
      "text/html": [
       "<pre>    To use these columns in scoring predictions, use a model that allows the use of additional features.</pre>"
      ],
      "text/plain": [
       "    To use these columns in scoring predictions, use a model that allows the use of additional features."
      ]
     },
     "metadata": {},
     "output_type": "display_data"
    },
    {
     "data": {
      "text/html": [
       "<pre>Preparing data set.</pre>"
      ],
      "text/plain": [
       "Preparing data set."
      ]
     },
     "metadata": {},
     "output_type": "display_data"
    },
    {
     "data": {
      "text/html": [
       "<pre>    Data has 202305 observations with 48635 users and 4591 items.</pre>"
      ],
      "text/plain": [
       "    Data has 202305 observations with 48635 users and 4591 items."
      ]
     },
     "metadata": {},
     "output_type": "display_data"
    },
    {
     "data": {
      "text/html": [
       "<pre>    Data prepared in: 0.187428s</pre>"
      ],
      "text/plain": [
       "    Data prepared in: 0.187428s"
      ]
     },
     "metadata": {},
     "output_type": "display_data"
    },
    {
     "data": {
      "text/html": [
       "<pre>Training model from provided data.</pre>"
      ],
      "text/plain": [
       "Training model from provided data."
      ]
     },
     "metadata": {},
     "output_type": "display_data"
    },
    {
     "data": {
      "text/html": [
       "<pre>Gathering per-item and per-user statistics.</pre>"
      ],
      "text/plain": [
       "Gathering per-item and per-user statistics."
      ]
     },
     "metadata": {},
     "output_type": "display_data"
    },
    {
     "data": {
      "text/html": [
       "<pre>+--------------------------------+------------+</pre>"
      ],
      "text/plain": [
       "+--------------------------------+------------+"
      ]
     },
     "metadata": {},
     "output_type": "display_data"
    },
    {
     "data": {
      "text/html": [
       "<pre>| Elapsed Time (Item Statistics) | % Complete |</pre>"
      ],
      "text/plain": [
       "| Elapsed Time (Item Statistics) | % Complete |"
      ]
     },
     "metadata": {},
     "output_type": "display_data"
    },
    {
     "data": {
      "text/html": [
       "<pre>+--------------------------------+------------+</pre>"
      ],
      "text/plain": [
       "+--------------------------------+------------+"
      ]
     },
     "metadata": {},
     "output_type": "display_data"
    },
    {
     "data": {
      "text/html": [
       "<pre>| 4.784ms                        | 39         |</pre>"
      ],
      "text/plain": [
       "| 4.784ms                        | 39         |"
      ]
     },
     "metadata": {},
     "output_type": "display_data"
    },
    {
     "data": {
      "text/html": [
       "<pre>| 17.024ms                       | 100        |</pre>"
      ],
      "text/plain": [
       "| 17.024ms                       | 100        |"
      ]
     },
     "metadata": {},
     "output_type": "display_data"
    },
    {
     "data": {
      "text/html": [
       "<pre>+--------------------------------+------------+</pre>"
      ],
      "text/plain": [
       "+--------------------------------+------------+"
      ]
     },
     "metadata": {},
     "output_type": "display_data"
    },
    {
     "data": {
      "text/html": [
       "<pre>Setting up lookup tables.</pre>"
      ],
      "text/plain": [
       "Setting up lookup tables."
      ]
     },
     "metadata": {},
     "output_type": "display_data"
    },
    {
     "data": {
      "text/html": [
       "<pre>Processing data in one pass using dense lookup tables.</pre>"
      ],
      "text/plain": [
       "Processing data in one pass using dense lookup tables."
      ]
     },
     "metadata": {},
     "output_type": "display_data"
    },
    {
     "data": {
      "text/html": [
       "<pre>+-------------------------------------+------------------+-----------------+</pre>"
      ],
      "text/plain": [
       "+-------------------------------------+------------------+-----------------+"
      ]
     },
     "metadata": {},
     "output_type": "display_data"
    },
    {
     "data": {
      "text/html": [
       "<pre>| Elapsed Time (Constructing Lookups) | Total % Complete | Items Processed |</pre>"
      ],
      "text/plain": [
       "| Elapsed Time (Constructing Lookups) | Total % Complete | Items Processed |"
      ]
     },
     "metadata": {},
     "output_type": "display_data"
    },
    {
     "data": {
      "text/html": [
       "<pre>+-------------------------------------+------------------+-----------------+</pre>"
      ],
      "text/plain": [
       "+-------------------------------------+------------------+-----------------+"
      ]
     },
     "metadata": {},
     "output_type": "display_data"
    },
    {
     "data": {
      "text/html": [
       "<pre>| 29.92ms                             | 0                | 0               |</pre>"
      ],
      "text/plain": [
       "| 29.92ms                             | 0                | 0               |"
      ]
     },
     "metadata": {},
     "output_type": "display_data"
    },
    {
     "data": {
      "text/html": [
       "<pre>| 196.033ms                           | 100              | 4591            |</pre>"
      ],
      "text/plain": [
       "| 196.033ms                           | 100              | 4591            |"
      ]
     },
     "metadata": {},
     "output_type": "display_data"
    },
    {
     "data": {
      "text/html": [
       "<pre>+-------------------------------------+------------------+-----------------+</pre>"
      ],
      "text/plain": [
       "+-------------------------------------+------------------+-----------------+"
      ]
     },
     "metadata": {},
     "output_type": "display_data"
    },
    {
     "data": {
      "text/html": [
       "<pre>Finalizing lookup tables.</pre>"
      ],
      "text/plain": [
       "Finalizing lookup tables."
      ]
     },
     "metadata": {},
     "output_type": "display_data"
    },
    {
     "data": {
      "text/html": [
       "<pre>Generating candidate set for working with new users.</pre>"
      ],
      "text/plain": [
       "Generating candidate set for working with new users."
      ]
     },
     "metadata": {},
     "output_type": "display_data"
    },
    {
     "data": {
      "text/html": [
       "<pre>Finished training in 1.23058s</pre>"
      ],
      "text/plain": [
       "Finished training in 1.23058s"
      ]
     },
     "metadata": {},
     "output_type": "display_data"
    }
   ],
   "source": [
    "rec = graphlab.recommender.item_similarity_recommender.create(sf, user_id='uid', item_id='bid', target='rating',\n",
    "                                                             similarity_type='pearson')"
   ]
  },
  {
   "cell_type": "code",
   "execution_count": 5,
   "metadata": {
    "collapsed": false
   },
   "outputs": [
    {
     "data": {
      "text/html": [
       "<pre>Finished parsing file /home/phui/Research/yelp/raw_data/nv_test_user_rest_rating_time.tsv</pre>"
      ],
      "text/plain": [
       "Finished parsing file /home/phui/Research/yelp/raw_data/nv_test_user_rest_rating_time.tsv"
      ]
     },
     "metadata": {},
     "output_type": "display_data"
    },
    {
     "data": {
      "text/html": [
       "<pre>Parsing completed. Parsed 100 lines in 0.130648 secs.</pre>"
      ],
      "text/plain": [
       "Parsing completed. Parsed 100 lines in 0.130648 secs."
      ]
     },
     "metadata": {},
     "output_type": "display_data"
    },
    {
     "name": "stdout",
     "output_type": "stream",
     "text": [
      "------------------------------------------------------\n",
      "Inferred types from first 100 line(s) of file as \n",
      "column_type_hints=[str,str,int,str]\n",
      "If parsing fails due to incorrect types, you can correct\n",
      "the inferred type list above and pass it to read_csv in\n",
      "the column_type_hints argument\n",
      "------------------------------------------------------\n"
     ]
    },
    {
     "data": {
      "text/html": [
       "<pre>Finished parsing file /home/phui/Research/yelp/raw_data/nv_test_user_rest_rating_time.tsv</pre>"
      ],
      "text/plain": [
       "Finished parsing file /home/phui/Research/yelp/raw_data/nv_test_user_rest_rating_time.tsv"
      ]
     },
     "metadata": {},
     "output_type": "display_data"
    },
    {
     "data": {
      "text/html": [
       "<pre>Parsing completed. Parsed 84011 lines in 0.106803 secs.</pre>"
      ],
      "text/plain": [
       "Parsing completed. Parsed 84011 lines in 0.106803 secs."
      ]
     },
     "metadata": {},
     "output_type": "display_data"
    },
    {
     "data": {
      "text/html": [
       "<div style=\"max-height:1000px;max-width:1500px;overflow:auto;\"><table frame=\"box\" rules=\"cols\">\n",
       "    <tr>\n",
       "        <th style=\"padding-left: 1em; padding-right: 1em; text-align: center\">uid</th>\n",
       "        <th style=\"padding-left: 1em; padding-right: 1em; text-align: center\">bid</th>\n",
       "        <th style=\"padding-left: 1em; padding-right: 1em; text-align: center\">rating</th>\n",
       "        <th style=\"padding-left: 1em; padding-right: 1em; text-align: center\">tstamp</th>\n",
       "    </tr>\n",
       "    <tr>\n",
       "        <td style=\"padding-left: 1em; padding-right: 1em; text-align: center; vertical-align: top\">mTDwQ4I2hAHz2i5AC1ab3w</td>\n",
       "        <td style=\"padding-left: 1em; padding-right: 1em; text-align: center; vertical-align: top\">wxf6JIS3U1U7d_GMwppq8Q</td>\n",
       "        <td style=\"padding-left: 1em; padding-right: 1em; text-align: center; vertical-align: top\">2</td>\n",
       "        <td style=\"padding-left: 1em; padding-right: 1em; text-align: center; vertical-align: top\">2008-02-04 00:00:00</td>\n",
       "    </tr>\n",
       "    <tr>\n",
       "        <td style=\"padding-left: 1em; padding-right: 1em; text-align: center; vertical-align: top\">UwnXA4ox3K9RMGaRwqgaBw</td>\n",
       "        <td style=\"padding-left: 1em; padding-right: 1em; text-align: center; vertical-align: top\">lqx--hrRwe0oK6WnFYNXlg</td>\n",
       "        <td style=\"padding-left: 1em; padding-right: 1em; text-align: center; vertical-align: top\">5</td>\n",
       "        <td style=\"padding-left: 1em; padding-right: 1em; text-align: center; vertical-align: top\">2012-01-27 00:00:00</td>\n",
       "    </tr>\n",
       "    <tr>\n",
       "        <td style=\"padding-left: 1em; padding-right: 1em; text-align: center; vertical-align: top\">UwnXA4ox3K9RMGaRwqgaBw</td>\n",
       "        <td style=\"padding-left: 1em; padding-right: 1em; text-align: center; vertical-align: top\">_ZyJLAlkmqefU0WXQ2o6jQ</td>\n",
       "        <td style=\"padding-left: 1em; padding-right: 1em; text-align: center; vertical-align: top\">2</td>\n",
       "        <td style=\"padding-left: 1em; padding-right: 1em; text-align: center; vertical-align: top\">2012-07-22 00:00:00</td>\n",
       "    </tr>\n",
       "    <tr>\n",
       "        <td style=\"padding-left: 1em; padding-right: 1em; text-align: center; vertical-align: top\">sxULQivO3NiCIDmWfZDSnA</td>\n",
       "        <td style=\"padding-left: 1em; padding-right: 1em; text-align: center; vertical-align: top\">QY8CBhPwv6dE4onjhj6MDg</td>\n",
       "        <td style=\"padding-left: 1em; padding-right: 1em; text-align: center; vertical-align: top\">5</td>\n",
       "        <td style=\"padding-left: 1em; padding-right: 1em; text-align: center; vertical-align: top\">2014-05-01 00:00:00</td>\n",
       "    </tr>\n",
       "    <tr>\n",
       "        <td style=\"padding-left: 1em; padding-right: 1em; text-align: center; vertical-align: top\">J3baStGXE2xRXYcgABj00A</td>\n",
       "        <td style=\"padding-left: 1em; padding-right: 1em; text-align: center; vertical-align: top\">BVRWDjbj9g712L5INfhKog</td>\n",
       "        <td style=\"padding-left: 1em; padding-right: 1em; text-align: center; vertical-align: top\">4</td>\n",
       "        <td style=\"padding-left: 1em; padding-right: 1em; text-align: center; vertical-align: top\">2014-01-22 00:00:00</td>\n",
       "    </tr>\n",
       "    <tr>\n",
       "        <td style=\"padding-left: 1em; padding-right: 1em; text-align: center; vertical-align: top\">_QbGo-V3NT6MUfIWpQgZNQ</td>\n",
       "        <td style=\"padding-left: 1em; padding-right: 1em; text-align: center; vertical-align: top\">sIyHTizqAiGu12XMLX3N3g</td>\n",
       "        <td style=\"padding-left: 1em; padding-right: 1em; text-align: center; vertical-align: top\">4</td>\n",
       "        <td style=\"padding-left: 1em; padding-right: 1em; text-align: center; vertical-align: top\">2013-05-08 00:00:00</td>\n",
       "    </tr>\n",
       "    <tr>\n",
       "        <td style=\"padding-left: 1em; padding-right: 1em; text-align: center; vertical-align: top\">MgM1QYyaLYmfjdesfYDLrg</td>\n",
       "        <td style=\"padding-left: 1em; padding-right: 1em; text-align: center; vertical-align: top\">E9ZsPtGovfEPHlMHkDdlQA</td>\n",
       "        <td style=\"padding-left: 1em; padding-right: 1em; text-align: center; vertical-align: top\">2</td>\n",
       "        <td style=\"padding-left: 1em; padding-right: 1em; text-align: center; vertical-align: top\">2012-05-08 00:00:00</td>\n",
       "    </tr>\n",
       "    <tr>\n",
       "        <td style=\"padding-left: 1em; padding-right: 1em; text-align: center; vertical-align: top\">MgM1QYyaLYmfjdesfYDLrg</td>\n",
       "        <td style=\"padding-left: 1em; padding-right: 1em; text-align: center; vertical-align: top\">vSf0pqvaLp5sVSjJPeOqqQ</td>\n",
       "        <td style=\"padding-left: 1em; padding-right: 1em; text-align: center; vertical-align: top\">2</td>\n",
       "        <td style=\"padding-left: 1em; padding-right: 1em; text-align: center; vertical-align: top\">2013-09-14 00:00:00</td>\n",
       "    </tr>\n",
       "    <tr>\n",
       "        <td style=\"padding-left: 1em; padding-right: 1em; text-align: center; vertical-align: top\">MgM1QYyaLYmfjdesfYDLrg</td>\n",
       "        <td style=\"padding-left: 1em; padding-right: 1em; text-align: center; vertical-align: top\">QJlab4DqvBRJPUfg7Vn5ZQ</td>\n",
       "        <td style=\"padding-left: 1em; padding-right: 1em; text-align: center; vertical-align: top\">3</td>\n",
       "        <td style=\"padding-left: 1em; padding-right: 1em; text-align: center; vertical-align: top\">2013-11-02 00:00:00</td>\n",
       "    </tr>\n",
       "    <tr>\n",
       "        <td style=\"padding-left: 1em; padding-right: 1em; text-align: center; vertical-align: top\">JQrqNRWKO8M5wbhLvWafHg</td>\n",
       "        <td style=\"padding-left: 1em; padding-right: 1em; text-align: center; vertical-align: top\">f2Iga3A59AFYwoeAvc3e6A</td>\n",
       "        <td style=\"padding-left: 1em; padding-right: 1em; text-align: center; vertical-align: top\">4</td>\n",
       "        <td style=\"padding-left: 1em; padding-right: 1em; text-align: center; vertical-align: top\">2010-02-26 00:00:00</td>\n",
       "    </tr>\n",
       "</table>\n",
       "[84011 rows x 4 columns]<br/>Note: Only the head of the SFrame is printed.<br/>You can use print_rows(num_rows=m, num_columns=n) to print more rows and columns.\n",
       "</div>"
      ],
      "text/plain": [
       "Columns:\n",
       "\tuid\tstr\n",
       "\tbid\tstr\n",
       "\trating\tint\n",
       "\ttstamp\tstr\n",
       "\n",
       "Rows: 84011\n",
       "\n",
       "Data:\n",
       "+------------------------+------------------------+--------+---------------------+\n",
       "|          uid           |          bid           | rating |        tstamp       |\n",
       "+------------------------+------------------------+--------+---------------------+\n",
       "| mTDwQ4I2hAHz2i5AC1ab3w | wxf6JIS3U1U7d_GMwppq8Q |   2    | 2008-02-04 00:00:00 |\n",
       "| UwnXA4ox3K9RMGaRwqgaBw | lqx--hrRwe0oK6WnFYNXlg |   5    | 2012-01-27 00:00:00 |\n",
       "| UwnXA4ox3K9RMGaRwqgaBw | _ZyJLAlkmqefU0WXQ2o6jQ |   2    | 2012-07-22 00:00:00 |\n",
       "| sxULQivO3NiCIDmWfZDSnA | QY8CBhPwv6dE4onjhj6MDg |   5    | 2014-05-01 00:00:00 |\n",
       "| J3baStGXE2xRXYcgABj00A | BVRWDjbj9g712L5INfhKog |   4    | 2014-01-22 00:00:00 |\n",
       "| _QbGo-V3NT6MUfIWpQgZNQ | sIyHTizqAiGu12XMLX3N3g |   4    | 2013-05-08 00:00:00 |\n",
       "| MgM1QYyaLYmfjdesfYDLrg | E9ZsPtGovfEPHlMHkDdlQA |   2    | 2012-05-08 00:00:00 |\n",
       "| MgM1QYyaLYmfjdesfYDLrg | vSf0pqvaLp5sVSjJPeOqqQ |   2    | 2013-09-14 00:00:00 |\n",
       "| MgM1QYyaLYmfjdesfYDLrg | QJlab4DqvBRJPUfg7Vn5ZQ |   3    | 2013-11-02 00:00:00 |\n",
       "| JQrqNRWKO8M5wbhLvWafHg | f2Iga3A59AFYwoeAvc3e6A |   4    | 2010-02-26 00:00:00 |\n",
       "+------------------------+------------------------+--------+---------------------+\n",
       "[84011 rows x 4 columns]\n",
       "Note: Only the head of the SFrame is printed.\n",
       "You can use print_rows(num_rows=m, num_columns=n) to print more rows and columns."
      ]
     },
     "execution_count": 5,
     "metadata": {},
     "output_type": "execute_result"
    }
   ],
   "source": [
    "test_sf = SFrame.read_csv('../raw_data/nv_test_user_rest_rating_time.tsv', delimiter='\\t', header=False)\n",
    "test_sf.rename({\n",
    "        'X1': 'uid',\n",
    "        'X2': 'bid',\n",
    "        'X3': 'rating',\n",
    "        'X4': 'tstamp'\n",
    "    })"
   ]
  },
  {
   "cell_type": "code",
   "execution_count": 6,
   "metadata": {
    "collapsed": false
   },
   "outputs": [
    {
     "data": {
      "text/html": [
       "<pre>recommendations finished on 1000/48635 queries. users per second: 57195.1</pre>"
      ],
      "text/plain": [
       "recommendations finished on 1000/48635 queries. users per second: 57195.1"
      ]
     },
     "metadata": {},
     "output_type": "display_data"
    },
    {
     "data": {
      "text/html": [
       "<pre>recommendations finished on 2000/48635 queries. users per second: 65567.3</pre>"
      ],
      "text/plain": [
       "recommendations finished on 2000/48635 queries. users per second: 65567.3"
      ]
     },
     "metadata": {},
     "output_type": "display_data"
    },
    {
     "data": {
      "text/html": [
       "<pre>recommendations finished on 3000/48635 queries. users per second: 66420.2</pre>"
      ],
      "text/plain": [
       "recommendations finished on 3000/48635 queries. users per second: 66420.2"
      ]
     },
     "metadata": {},
     "output_type": "display_data"
    },
    {
     "data": {
      "text/html": [
       "<pre>recommendations finished on 4000/48635 queries. users per second: 67131</pre>"
      ],
      "text/plain": [
       "recommendations finished on 4000/48635 queries. users per second: 67131"
      ]
     },
     "metadata": {},
     "output_type": "display_data"
    },
    {
     "data": {
      "text/html": [
       "<pre>recommendations finished on 5000/48635 queries. users per second: 67284.8</pre>"
      ],
      "text/plain": [
       "recommendations finished on 5000/48635 queries. users per second: 67284.8"
      ]
     },
     "metadata": {},
     "output_type": "display_data"
    },
    {
     "data": {
      "text/html": [
       "<pre>recommendations finished on 6000/48635 queries. users per second: 63610.5</pre>"
      ],
      "text/plain": [
       "recommendations finished on 6000/48635 queries. users per second: 63610.5"
      ]
     },
     "metadata": {},
     "output_type": "display_data"
    },
    {
     "data": {
      "text/html": [
       "<pre>recommendations finished on 7000/48635 queries. users per second: 63727.3</pre>"
      ],
      "text/plain": [
       "recommendations finished on 7000/48635 queries. users per second: 63727.3"
      ]
     },
     "metadata": {},
     "output_type": "display_data"
    },
    {
     "data": {
      "text/html": [
       "<pre>recommendations finished on 8000/48635 queries. users per second: 64028.2</pre>"
      ],
      "text/plain": [
       "recommendations finished on 8000/48635 queries. users per second: 64028.2"
      ]
     },
     "metadata": {},
     "output_type": "display_data"
    },
    {
     "data": {
      "text/html": [
       "<pre>recommendations finished on 9000/48635 queries. users per second: 63832.5</pre>"
      ],
      "text/plain": [
       "recommendations finished on 9000/48635 queries. users per second: 63832.5"
      ]
     },
     "metadata": {},
     "output_type": "display_data"
    },
    {
     "data": {
      "text/html": [
       "<pre>recommendations finished on 10000/48635 queries. users per second: 63233.5</pre>"
      ],
      "text/plain": [
       "recommendations finished on 10000/48635 queries. users per second: 63233.5"
      ]
     },
     "metadata": {},
     "output_type": "display_data"
    },
    {
     "data": {
      "text/html": [
       "<pre>recommendations finished on 11000/48635 queries. users per second: 62870.1</pre>"
      ],
      "text/plain": [
       "recommendations finished on 11000/48635 queries. users per second: 62870.1"
      ]
     },
     "metadata": {},
     "output_type": "display_data"
    },
    {
     "data": {
      "text/html": [
       "<pre>recommendations finished on 12000/48635 queries. users per second: 62922.4</pre>"
      ],
      "text/plain": [
       "recommendations finished on 12000/48635 queries. users per second: 62922.4"
      ]
     },
     "metadata": {},
     "output_type": "display_data"
    },
    {
     "data": {
      "text/html": [
       "<pre>recommendations finished on 13000/48635 queries. users per second: 63213</pre>"
      ],
      "text/plain": [
       "recommendations finished on 13000/48635 queries. users per second: 63213"
      ]
     },
     "metadata": {},
     "output_type": "display_data"
    },
    {
     "data": {
      "text/html": [
       "<pre>recommendations finished on 14000/48635 queries. users per second: 63283.4</pre>"
      ],
      "text/plain": [
       "recommendations finished on 14000/48635 queries. users per second: 63283.4"
      ]
     },
     "metadata": {},
     "output_type": "display_data"
    },
    {
     "data": {
      "text/html": [
       "<pre>recommendations finished on 15000/48635 queries. users per second: 63379.4</pre>"
      ],
      "text/plain": [
       "recommendations finished on 15000/48635 queries. users per second: 63379.4"
      ]
     },
     "metadata": {},
     "output_type": "display_data"
    },
    {
     "data": {
      "text/html": [
       "<pre>recommendations finished on 16000/48635 queries. users per second: 63265.1</pre>"
      ],
      "text/plain": [
       "recommendations finished on 16000/48635 queries. users per second: 63265.1"
      ]
     },
     "metadata": {},
     "output_type": "display_data"
    },
    {
     "data": {
      "text/html": [
       "<pre>recommendations finished on 17000/48635 queries. users per second: 62775.1</pre>"
      ],
      "text/plain": [
       "recommendations finished on 17000/48635 queries. users per second: 62775.1"
      ]
     },
     "metadata": {},
     "output_type": "display_data"
    },
    {
     "data": {
      "text/html": [
       "<pre>recommendations finished on 18000/48635 queries. users per second: 63025.9</pre>"
      ],
      "text/plain": [
       "recommendations finished on 18000/48635 queries. users per second: 63025.9"
      ]
     },
     "metadata": {},
     "output_type": "display_data"
    },
    {
     "data": {
      "text/html": [
       "<pre>recommendations finished on 19000/48635 queries. users per second: 62400</pre>"
      ],
      "text/plain": [
       "recommendations finished on 19000/48635 queries. users per second: 62400"
      ]
     },
     "metadata": {},
     "output_type": "display_data"
    },
    {
     "data": {
      "text/html": [
       "<pre>recommendations finished on 20000/48635 queries. users per second: 62576.1</pre>"
      ],
      "text/plain": [
       "recommendations finished on 20000/48635 queries. users per second: 62576.1"
      ]
     },
     "metadata": {},
     "output_type": "display_data"
    },
    {
     "data": {
      "text/html": [
       "<pre>recommendations finished on 21000/48635 queries. users per second: 62176.5</pre>"
      ],
      "text/plain": [
       "recommendations finished on 21000/48635 queries. users per second: 62176.5"
      ]
     },
     "metadata": {},
     "output_type": "display_data"
    },
    {
     "data": {
      "text/html": [
       "<pre>recommendations finished on 22000/48635 queries. users per second: 61643.8</pre>"
      ],
      "text/plain": [
       "recommendations finished on 22000/48635 queries. users per second: 61643.8"
      ]
     },
     "metadata": {},
     "output_type": "display_data"
    },
    {
     "data": {
      "text/html": [
       "<pre>recommendations finished on 23000/48635 queries. users per second: 61369.2</pre>"
      ],
      "text/plain": [
       "recommendations finished on 23000/48635 queries. users per second: 61369.2"
      ]
     },
     "metadata": {},
     "output_type": "display_data"
    },
    {
     "data": {
      "text/html": [
       "<pre>recommendations finished on 24000/48635 queries. users per second: 61201.4</pre>"
      ],
      "text/plain": [
       "recommendations finished on 24000/48635 queries. users per second: 61201.4"
      ]
     },
     "metadata": {},
     "output_type": "display_data"
    },
    {
     "data": {
      "text/html": [
       "<pre>recommendations finished on 25000/48635 queries. users per second: 61338.9</pre>"
      ],
      "text/plain": [
       "recommendations finished on 25000/48635 queries. users per second: 61338.9"
      ]
     },
     "metadata": {},
     "output_type": "display_data"
    },
    {
     "data": {
      "text/html": [
       "<pre>recommendations finished on 26000/48635 queries. users per second: 61260.1</pre>"
      ],
      "text/plain": [
       "recommendations finished on 26000/48635 queries. users per second: 61260.1"
      ]
     },
     "metadata": {},
     "output_type": "display_data"
    },
    {
     "data": {
      "text/html": [
       "<pre>recommendations finished on 27000/48635 queries. users per second: 61322</pre>"
      ],
      "text/plain": [
       "recommendations finished on 27000/48635 queries. users per second: 61322"
      ]
     },
     "metadata": {},
     "output_type": "display_data"
    },
    {
     "data": {
      "text/html": [
       "<pre>recommendations finished on 28000/48635 queries. users per second: 61412.5</pre>"
      ],
      "text/plain": [
       "recommendations finished on 28000/48635 queries. users per second: 61412.5"
      ]
     },
     "metadata": {},
     "output_type": "display_data"
    },
    {
     "data": {
      "text/html": [
       "<pre>recommendations finished on 29000/48635 queries. users per second: 61486</pre>"
      ],
      "text/plain": [
       "recommendations finished on 29000/48635 queries. users per second: 61486"
      ]
     },
     "metadata": {},
     "output_type": "display_data"
    },
    {
     "data": {
      "text/html": [
       "<pre>recommendations finished on 30000/48635 queries. users per second: 61688.3</pre>"
      ],
      "text/plain": [
       "recommendations finished on 30000/48635 queries. users per second: 61688.3"
      ]
     },
     "metadata": {},
     "output_type": "display_data"
    },
    {
     "data": {
      "text/html": [
       "<pre>recommendations finished on 31000/48635 queries. users per second: 61809.6</pre>"
      ],
      "text/plain": [
       "recommendations finished on 31000/48635 queries. users per second: 61809.6"
      ]
     },
     "metadata": {},
     "output_type": "display_data"
    },
    {
     "data": {
      "text/html": [
       "<pre>recommendations finished on 32000/48635 queries. users per second: 61727.3</pre>"
      ],
      "text/plain": [
       "recommendations finished on 32000/48635 queries. users per second: 61727.3"
      ]
     },
     "metadata": {},
     "output_type": "display_data"
    },
    {
     "data": {
      "text/html": [
       "<pre>recommendations finished on 33000/48635 queries. users per second: 61631</pre>"
      ],
      "text/plain": [
       "recommendations finished on 33000/48635 queries. users per second: 61631"
      ]
     },
     "metadata": {},
     "output_type": "display_data"
    },
    {
     "data": {
      "text/html": [
       "<pre>recommendations finished on 34000/48635 queries. users per second: 61502.3</pre>"
      ],
      "text/plain": [
       "recommendations finished on 34000/48635 queries. users per second: 61502.3"
      ]
     },
     "metadata": {},
     "output_type": "display_data"
    },
    {
     "data": {
      "text/html": [
       "<pre>recommendations finished on 35000/48635 queries. users per second: 61496.2</pre>"
      ],
      "text/plain": [
       "recommendations finished on 35000/48635 queries. users per second: 61496.2"
      ]
     },
     "metadata": {},
     "output_type": "display_data"
    },
    {
     "data": {
      "text/html": [
       "<pre>recommendations finished on 36000/48635 queries. users per second: 61537.9</pre>"
      ],
      "text/plain": [
       "recommendations finished on 36000/48635 queries. users per second: 61537.9"
      ]
     },
     "metadata": {},
     "output_type": "display_data"
    },
    {
     "data": {
      "text/html": [
       "<pre>recommendations finished on 37000/48635 queries. users per second: 61562.1</pre>"
      ],
      "text/plain": [
       "recommendations finished on 37000/48635 queries. users per second: 61562.1"
      ]
     },
     "metadata": {},
     "output_type": "display_data"
    },
    {
     "data": {
      "text/html": [
       "<pre>recommendations finished on 38000/48635 queries. users per second: 61541.5</pre>"
      ],
      "text/plain": [
       "recommendations finished on 38000/48635 queries. users per second: 61541.5"
      ]
     },
     "metadata": {},
     "output_type": "display_data"
    },
    {
     "data": {
      "text/html": [
       "<pre>recommendations finished on 39000/48635 queries. users per second: 61537.8</pre>"
      ],
      "text/plain": [
       "recommendations finished on 39000/48635 queries. users per second: 61537.8"
      ]
     },
     "metadata": {},
     "output_type": "display_data"
    },
    {
     "data": {
      "text/html": [
       "<pre>recommendations finished on 40000/48635 queries. users per second: 61470.7</pre>"
      ],
      "text/plain": [
       "recommendations finished on 40000/48635 queries. users per second: 61470.7"
      ]
     },
     "metadata": {},
     "output_type": "display_data"
    },
    {
     "data": {
      "text/html": [
       "<pre>recommendations finished on 41000/48635 queries. users per second: 61462.4</pre>"
      ],
      "text/plain": [
       "recommendations finished on 41000/48635 queries. users per second: 61462.4"
      ]
     },
     "metadata": {},
     "output_type": "display_data"
    },
    {
     "data": {
      "text/html": [
       "<pre>recommendations finished on 42000/48635 queries. users per second: 61283.5</pre>"
      ],
      "text/plain": [
       "recommendations finished on 42000/48635 queries. users per second: 61283.5"
      ]
     },
     "metadata": {},
     "output_type": "display_data"
    },
    {
     "data": {
      "text/html": [
       "<pre>recommendations finished on 43000/48635 queries. users per second: 60715.4</pre>"
      ],
      "text/plain": [
       "recommendations finished on 43000/48635 queries. users per second: 60715.4"
      ]
     },
     "metadata": {},
     "output_type": "display_data"
    },
    {
     "data": {
      "text/html": [
       "<pre>recommendations finished on 44000/48635 queries. users per second: 60530.1</pre>"
      ],
      "text/plain": [
       "recommendations finished on 44000/48635 queries. users per second: 60530.1"
      ]
     },
     "metadata": {},
     "output_type": "display_data"
    },
    {
     "data": {
      "text/html": [
       "<pre>recommendations finished on 45000/48635 queries. users per second: 60307.9</pre>"
      ],
      "text/plain": [
       "recommendations finished on 45000/48635 queries. users per second: 60307.9"
      ]
     },
     "metadata": {},
     "output_type": "display_data"
    },
    {
     "data": {
      "text/html": [
       "<pre>recommendations finished on 46000/48635 queries. users per second: 59843.3</pre>"
      ],
      "text/plain": [
       "recommendations finished on 46000/48635 queries. users per second: 59843.3"
      ]
     },
     "metadata": {},
     "output_type": "display_data"
    },
    {
     "data": {
      "text/html": [
       "<pre>recommendations finished on 47000/48635 queries. users per second: 59478.7</pre>"
      ],
      "text/plain": [
       "recommendations finished on 47000/48635 queries. users per second: 59478.7"
      ]
     },
     "metadata": {},
     "output_type": "display_data"
    },
    {
     "data": {
      "text/html": [
       "<pre>recommendations finished on 48000/48635 queries. users per second: 57856.3</pre>"
      ],
      "text/plain": [
       "recommendations finished on 48000/48635 queries. users per second: 57856.3"
      ]
     },
     "metadata": {},
     "output_type": "display_data"
    },
    {
     "name": "stdout",
     "output_type": "stream",
     "text": [
      "\n",
      "Precision and recall summary statistics by cutoff\n",
      "+--------+-------------------+-------------------+\n",
      "| cutoff |   mean_precision  |    mean_recall    |\n",
      "+--------+-------------------+-------------------+\n",
      "|   1    | 0.000102806620746 | 5.40042300092e-05 |\n",
      "|   2    | 6.16839724478e-05 | 6.42848920838e-05 |\n",
      "|   3    | 5.48301977314e-05 | 8.48462162331e-05 |\n",
      "|   4    | 6.16839724478e-05 | 0.000137831166925 |\n",
      "|   5    | 4.93471779583e-05 | 0.000137831166925 |\n",
      "|   6    |  4.7976423015e-05 | 0.000150396420572 |\n",
      "|   7    | 4.69973123412e-05 | 0.000152161644143 |\n",
      "|   8    | 4.62629793359e-05 | 0.000165869193576 |\n",
      "|   9    |  4.7976423015e-05 | 0.000192084881866 |\n",
      "|   10   | 5.34594427881e-05 | 0.000230123331542 |\n",
      "+--------+-------------------+-------------------+\n",
      "[10 rows x 3 columns]\n",
      "\n",
      "('\\nOverall RMSE: ', 1.1665797001634826)\n",
      "\n",
      "Per User RMSE (best)\n",
      "+------------------------+-------+------+\n",
      "|          uid           | count | rmse |\n",
      "+------------------------+-------+------+\n",
      "| 8e5nS72P4wTS4FHzNOUSSw |   1   | 0.0  |\n",
      "+------------------------+-------+------+\n",
      "[1 rows x 3 columns]\n",
      "\n",
      "\n",
      "Per User RMSE (worst)\n",
      "+------------------------+-------+------+\n",
      "|          uid           | count | rmse |\n",
      "+------------------------+-------+------+\n",
      "| HKd64B3Ph45zs1gfbLx1Sw |   1   | 5.0  |\n",
      "+------------------------+-------+------+\n",
      "[1 rows x 3 columns]\n",
      "\n",
      "\n",
      "Per Item RMSE (best)\n",
      "+------------------------+-------+------+\n",
      "|          bid           | count | rmse |\n",
      "+------------------------+-------+------+\n",
      "| gcY4e5P1aac-Cj0NePNmPQ |   1   | 0.0  |\n",
      "+------------------------+-------+------+\n",
      "[1 rows x 3 columns]\n",
      "\n",
      "\n",
      "Per Item RMSE (worst)\n",
      "+------------------------+-------+------+\n",
      "|          bid           | count | rmse |\n",
      "+------------------------+-------+------+\n",
      "| v39_dgHjA3fXGEspMu8_mw |   2   | 5.0  |\n",
      "+------------------------+-------+------+\n",
      "[1 rows x 3 columns]\n",
      "\n"
     ]
    }
   ],
   "source": [
    "result = rec.evaluate(test_sf)"
   ]
  },
  {
   "cell_type": "code",
   "execution_count": 7,
   "metadata": {
    "collapsed": false
   },
   "outputs": [],
   "source": [
    "import pandas as pd\n",
    "%matplotlib inline"
   ]
  },
  {
   "cell_type": "code",
   "execution_count": 8,
   "metadata": {
    "collapsed": false
   },
   "outputs": [
    {
     "data": {
      "text/plain": [
       "<matplotlib.axes._subplots.AxesSubplot at 0x7fa76f60b990>"
      ]
     },
     "execution_count": 8,
     "metadata": {},
     "output_type": "execute_result"
    },
    {
     "data": {
      "image/png": "[encoded data removed]",
      "text/plain": [
       "<matplotlib.figure.Figure at 0x7fa76f679bd0>"
      ]
     },
     "metadata": {},
     "output_type": "display_data"
    }
   ],
   "source": [
    "predicted = rec.predict(test_sf)\n",
    "pd.Series(predicted).hist(bins=20)"
   ]
  },
  {
   "cell_type": "code",
   "execution_count": 9,
   "metadata": {
    "collapsed": false
   },
   "outputs": [],
   "source": [
    "import numpy as np\n",
    "result_df = test_sf.to_dataframe()\n",
    "result_df['err'] = pd.Series(predicted - test_sf['rating'])"
   ]
  },
  {
   "cell_type": "code",
   "execution_count": 10,
   "metadata": {
    "collapsed": false
   },
   "outputs": [
    {
     "data": {
      "text/html": [
       "<div>\n",
       "<table border=\"1\" class=\"dataframe\">\n",
       "  <thead>\n",
       "    <tr style=\"text-align: right;\">\n",
       "      <th></th>\n",
       "      <th>uid</th>\n",
       "      <th>bid</th>\n",
       "      <th>rating</th>\n",
       "      <th>tstamp</th>\n",
       "      <th>err</th>\n",
       "    </tr>\n",
       "  </thead>\n",
       "  <tbody>\n",
       "    <tr>\n",
       "      <th>0</th>\n",
       "      <td>mTDwQ4I2hAHz2i5AC1ab3w</td>\n",
       "      <td>wxf6JIS3U1U7d_GMwppq8Q</td>\n",
       "      <td>2</td>\n",
       "      <td>2008-02-04 00:00:00</td>\n",
       "      <td>0.875000</td>\n",
       "    </tr>\n",
       "    <tr>\n",
       "      <th>1</th>\n",
       "      <td>UwnXA4ox3K9RMGaRwqgaBw</td>\n",
       "      <td>lqx--hrRwe0oK6WnFYNXlg</td>\n",
       "      <td>5</td>\n",
       "      <td>2012-01-27 00:00:00</td>\n",
       "      <td>-1.150943</td>\n",
       "    </tr>\n",
       "    <tr>\n",
       "      <th>2</th>\n",
       "      <td>UwnXA4ox3K9RMGaRwqgaBw</td>\n",
       "      <td>_ZyJLAlkmqefU0WXQ2o6jQ</td>\n",
       "      <td>2</td>\n",
       "      <td>2012-07-22 00:00:00</td>\n",
       "      <td>1.761111</td>\n",
       "    </tr>\n",
       "    <tr>\n",
       "      <th>3</th>\n",
       "      <td>sxULQivO3NiCIDmWfZDSnA</td>\n",
       "      <td>QY8CBhPwv6dE4onjhj6MDg</td>\n",
       "      <td>5</td>\n",
       "      <td>2014-05-01 00:00:00</td>\n",
       "      <td>-0.588785</td>\n",
       "    </tr>\n",
       "    <tr>\n",
       "      <th>4</th>\n",
       "      <td>J3baStGXE2xRXYcgABj00A</td>\n",
       "      <td>BVRWDjbj9g712L5INfhKog</td>\n",
       "      <td>4</td>\n",
       "      <td>2014-01-22 00:00:00</td>\n",
       "      <td>-0.369863</td>\n",
       "    </tr>\n",
       "  </tbody>\n",
       "</table>\n",
       "</div>"
      ],
      "text/plain": [
       "                      uid                     bid  rating  \\\n",
       "0  mTDwQ4I2hAHz2i5AC1ab3w  wxf6JIS3U1U7d_GMwppq8Q       2   \n",
       "1  UwnXA4ox3K9RMGaRwqgaBw  lqx--hrRwe0oK6WnFYNXlg       5   \n",
       "2  UwnXA4ox3K9RMGaRwqgaBw  _ZyJLAlkmqefU0WXQ2o6jQ       2   \n",
       "3  sxULQivO3NiCIDmWfZDSnA  QY8CBhPwv6dE4onjhj6MDg       5   \n",
       "4  J3baStGXE2xRXYcgABj00A  BVRWDjbj9g712L5INfhKog       4   \n",
       "\n",
       "                tstamp       err  \n",
       "0  2008-02-04 00:00:00  0.875000  \n",
       "1  2012-01-27 00:00:00 -1.150943  \n",
       "2  2012-07-22 00:00:00  1.761111  \n",
       "3  2014-05-01 00:00:00 -0.588785  \n",
       "4  2014-01-22 00:00:00 -0.369863  "
      ]
     },
     "execution_count": 10,
     "metadata": {},
     "output_type": "execute_result"
    }
   ],
   "source": [
    "result_df.head()"
   ]
  },
  {
   "cell_type": "code",
   "execution_count": 11,
   "metadata": {
    "collapsed": false
   },
   "outputs": [
    {
     "data": {
      "text/plain": [
       "0.9910860282146261"
      ]
     },
     "execution_count": 11,
     "metadata": {},
     "output_type": "execute_result"
    }
   ],
   "source": [
    "result_df.groupby('uid').apply(lambda gp: np.sqrt(np.power(gp['err'], 2).mean())).mean()"
   ]
  },
  {
   "cell_type": "code",
   "execution_count": 16,
   "metadata": {
    "collapsed": false
   },
   "outputs": [
    {
     "data": {
      "text/plain": [
       "0.0030637268070029685"
      ]
     },
     "execution_count": 16,
     "metadata": {},
     "output_type": "execute_result"
    }
   ],
   "source": [
    "result_df.groupby('uid').apply(lambda gp: np.sqrt(np.power(gp['err'], 2).mean())).std() / \\\n",
    "    np.sqrt(len(result_df['uid'].value_counts()))"
   ]
  },
  {
   "cell_type": "code",
   "execution_count": 14,
   "metadata": {
    "collapsed": false
   },
   "outputs": [
    {
     "data": {
      "text/plain": [
       "<matplotlib.axes._subplots.AxesSubplot at 0x7ff290073210>"
      ]
     },
     "execution_count": 14,
     "metadata": {},
     "output_type": "execute_result"
    },
    {
     "data": {
      "image/png": "[encoded data removed]",
      "text/plain": [
       "<matplotlib.figure.Figure at 0x7ff2904cfe90>"
      ]
     },
     "metadata": {},
     "output_type": "display_data"
    }
   ],
   "source": [
    "result_df.groupby('uid').apply(lambda gp: np.sqrt(np.power(gp['err'], 2).mean())).hist()"
   ]
  },
  {
   "cell_type": "code",
   "execution_count": 15,
   "metadata": {
    "collapsed": false
   },
   "outputs": [
    {
     "data": {
      "text/plain": [
       "SpearmanrResult(correlation=0.68031983241595662, pvalue=0.0)"
      ]
     },
     "execution_count": 15,
     "metadata": {},
     "output_type": "execute_result"
    }
   ],
   "source": [
    "import scipy as sp\n",
    "merged = pd.merge(df, result_df, left_on=['uid', 'bid'], right_on=['uid', 'bid'])\n",
    "means = merged.groupby('uid').mean()\n",
    "sp.stats.spearmanr(means['err_x'], means['err_y'])"
   ]
  },
  {
   "cell_type": "code",
   "execution_count": 13,
   "metadata": {
    "collapsed": false
   },
   "outputs": [
    {
     "data": {
      "text/plain": [
       "<matplotlib.axes._subplots.AxesSubplot at 0x7fa73c46f2d0>"
      ]
     },
     "execution_count": 13,
     "metadata": {},
     "output_type": "execute_result"
    },
    {
     "data": {
      "image/png": "[encoded data removed]",
      "text/plain": [
       "<matplotlib.figure.Figure at 0x7fa73c446f50>"
      ]
     },
     "metadata": {},
     "output_type": "display_data"
    }
   ],
   "source": [
    "pd.Series(predicted - test_sf['rating']).hist(bins=20, normed=True, color='k',stacked=True)\n",
    "df = pd.read_csv('../performance/nv_errors_2d.tsv', header=None, sep='\\t', names=['uid', 'bid', 'err', 'abs_err'])\n",
    "df['err'].hist(bins=20, normed=True,color='red',stacked=True)"
   ]
  },
  {
   "cell_type": "code",
   "execution_count": 7,
   "metadata": {
    "collapsed": false
   },
   "outputs": [
    {
     "data": {
      "text/plain": [
       "1.0970812582719398"
      ]
     },
     "execution_count": 7,
     "metadata": {},
     "output_type": "execute_result"
    }
   ],
   "source": [
    "import numpy as np\n",
    "df.groupby('uid').apply(lambda gp: np.sqrt(np.power(gp['err'], 2).mean())).mean()"
   ]
  },
  {
   "cell_type": "code",
   "execution_count": 6,
   "metadata": {
    "collapsed": false
   },
   "outputs": [
    {
     "data": {
      "text/plain": [
       "<matplotlib.axes._subplots.AxesSubplot at 0x7f5e0c3adf90>"
      ]
     },
     "execution_count": 6,
     "metadata": {},
     "output_type": "execute_result"
    },
    {
     "data": {
      "image/png": "[encoded data removed]",
      "text/plain": [
       "<matplotlib.figure.Figure at 0x7f5e0c5c5610>"
      ]
     },
     "metadata": {},
     "output_type": "display_data"
    }
   ],
   "source": [
    "df = pd.read_csv('../performance/nv_errors_1d.tsv', header=None, sep='\\t', names=['uid', 'bid', 'err', 'abs_err'])\n",
    "df['err'].hist(bins=20)"
   ]
  },
  {
   "cell_type": "code",
   "execution_count": 53,
   "metadata": {
    "collapsed": true
   },
   "outputs": [],
   "source": [
    "plot_df = pd.DataFrame({\n",
    "        'itemitem': pd.Series(predicted - test_sf['rating']),\n",
    "        'w2v': df['err']\n",
    "    })"
   ]
  },
  {
   "cell_type": "code",
   "execution_count": 54,
   "metadata": {
    "collapsed": false
   },
   "outputs": [
    {
     "data": {
      "text/plain": [
       "array([[<matplotlib.axes._subplots.AxesSubplot object at 0x7f540c4c7d10>,\n",
       "        <matplotlib.axes._subplots.AxesSubplot object at 0x7f540c11eb50>]], dtype=object)"
      ]
     },
     "execution_count": 54,
     "metadata": {},
     "output_type": "execute_result"
    },
    {
     "data": {
      "image/png": "[encoded data removed]",
      "text/plain": [
       "<matplotlib.figure.Figure at 0x7f540c466490>"
      ]
     },
     "metadata": {},
     "output_type": "display_data"
    }
   ],
   "source": [
    "plot_df."
   ]
  },
  {
   "cell_type": "code",
   "execution_count": null,
   "metadata": {
    "collapsed": true
   },
   "outputs": [],
   "source": []
  }
 ],
 "metadata": {
  "kernelspec": {
   "display_name": "Python 2",
   "language": "python",
   "name": "python2"
  },
  "language_info": {
   "codemirror_mode": {
    "name": "ipython",
    "version": 2
   },
   "file_extension": ".py",
   "mimetype": "text/x-python",
   "name": "python",
   "nbconvert_exporter": "python",
   "pygments_lexer": "ipython2",
   "version": "2.7.12"
  }
 },
 "nbformat": 4,
 "nbformat_minor": 0
}
